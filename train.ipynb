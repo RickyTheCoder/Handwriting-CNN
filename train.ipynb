{
 "cells": [
  {
   "cell_type": "code",
   "execution_count": 1,
   "id": "13de434f-5da0-42d6-99f3-0c9541875dd6",
   "metadata": {},
   "outputs": [],
   "source": [
    "import time\n",
    "from cnn import CNN\n",
    "import torch"
   ]
  },
  {
   "cell_type": "code",
   "execution_count": 2,
   "id": "1725f21f-f04b-4aa7-bfd9-4aef391d261f",
   "metadata": {},
   "outputs": [],
   "source": [
    "network = CNN(lr=0.001, batch_size=128)"
   ]
  },
  {
   "cell_type": "code",
   "execution_count": 3,
   "id": "ccbd1b0b-3070-4766-abc3-cea840e4d08a",
   "metadata": {},
   "outputs": [
    {
     "name": "stderr",
     "output_type": "stream",
     "text": [
      "C:\\Users\\ashul\\OneDrive\\Documents\\GitHub\\MURL\\MNIST-CNN\\cnn.py:63: UserWarning: To copy construct from a tensor, it is recommended to use sourceTensor.clone().detach() or sourceTensor.clone().detach().requires_grad_(True), rather than torch.tensor(sourceTensor).\n",
      "  batch_data = torch.tensor(batch_data).to(self.device)\n"
     ]
    },
    {
     "name": "stdout",
     "output_type": "stream",
     "text": [
      "Finish epoch 0 total loss 53.796 accuracy 0.971\n",
      "Finish epoch 1 total loss 15.671 accuracy 0.990\n",
      "Finish epoch 2 total loss 12.153 accuracy 0.992\n",
      "Finish epoch 3 total loss 9.287 accuracy 0.994\n",
      "Finish epoch 4 total loss 7.452 accuracy 0.995\n",
      "Finish epoch 5 total loss 6.381 accuracy 0.996\n",
      "Finish epoch 6 total loss 5.508 accuracy 0.997\n",
      "Finish epoch 7 total loss 4.955 accuracy 0.997\n",
      "Finish epoch 8 total loss 3.996 accuracy 0.998\n",
      "Finish epoch 9 total loss 4.014 accuracy 0.997\n"
     ]
    }
   ],
   "source": [
    "network._train(10)"
   ]
  },
  {
   "cell_type": "code",
   "execution_count": 4,
   "id": "e68b98c6-702b-46df-8832-0451fd8a1802",
   "metadata": {},
   "outputs": [
    {
     "name": "stdout",
     "output_type": "stream",
     "text": [
      "Finish epoch 0 total loss 1663.293 accuracy 0.882\n",
      "Finish epoch 1 total loss 1644.401 accuracy 0.882\n",
      "Finish epoch 2 total loss 1624.841 accuracy 0.884\n",
      "Finish epoch 3 total loss 1605.190 accuracy 0.885\n",
      "Finish epoch 4 total loss 1587.678 accuracy 0.886\n",
      "Finish epoch 5 total loss 1569.390 accuracy 0.887\n",
      "Finish epoch 6 total loss 1551.037 accuracy 0.888\n",
      "Finish epoch 7 total loss 1536.141 accuracy 0.889\n",
      "Finish epoch 8 total loss 1517.387 accuracy 0.890\n",
      "Finish epoch 9 total loss 1504.109 accuracy 0.891\n",
      "Finish epoch 10 total loss 1490.006 accuracy 0.892\n",
      "Finish epoch 11 total loss 1472.319 accuracy 0.893\n",
      "Finish epoch 12 total loss 1459.375 accuracy 0.893\n",
      "Finish epoch 13 total loss 1446.920 accuracy 0.894\n",
      "Finish epoch 14 total loss 1432.238 accuracy 0.895\n",
      "Finish epoch 15 total loss 1418.898 accuracy 0.896\n",
      "Finish epoch 16 total loss 1405.845 accuracy 0.897\n",
      "Finish epoch 17 total loss 1392.037 accuracy 0.898\n",
      "Finish epoch 18 total loss 1378.900 accuracy 0.899\n",
      "Finish epoch 19 total loss 1365.676 accuracy 0.900\n",
      "Finish epoch 20 total loss 1353.565 accuracy 0.900\n",
      "Finish epoch 21 total loss 1340.772 accuracy 0.901\n",
      "Finish epoch 22 total loss 1329.999 accuracy 0.902\n",
      "Finish epoch 23 total loss 1318.465 accuracy 0.903\n",
      "Finish epoch 24 total loss 1308.293 accuracy 0.903\n",
      "Finish epoch 25 total loss 1299.083 accuracy 0.904\n",
      "Finish epoch 26 total loss 1287.726 accuracy 0.905\n",
      "Finish epoch 27 total loss 1275.363 accuracy 0.906\n",
      "Finish epoch 28 total loss 1265.805 accuracy 0.906\n",
      "Finish epoch 29 total loss 1254.568 accuracy 0.907\n"
     ]
    }
   ],
   "source": [
    "network._train(30)"
   ]
  },
  {
   "cell_type": "code",
   "execution_count": 4,
   "id": "946d865c-128f-40c3-aa5c-9bbb1dfd0e61",
   "metadata": {},
   "outputs": [],
   "source": [
    "torch.save(network.state_dict(),\"CNN-weights.pt\")"
   ]
  },
  {
   "cell_type": "code",
   "execution_count": 4,
   "id": "96cecd8a-0458-472c-886f-0ff75f5a7023",
   "metadata": {},
   "outputs": [
    {
     "data": {
      "text/plain": [
       "5453"
      ]
     },
     "execution_count": 4,
     "metadata": {},
     "output_type": "execute_result"
    }
   ],
   "source": [
    "len(network.train_data_loader) #this is how many batches there are (each of size self.batch_size)"
   ]
  },
  {
   "cell_type": "code",
   "execution_count": 16,
   "id": "b8535657-a8fa-4058-ab9a-3662608b8603",
   "metadata": {},
   "outputs": [],
   "source": [
    "#testing, getting a single element of the DataLoader object\n",
    "Batch = next(iter(network.train_data_loader))[0]\n",
    "SingleImage = Batch[0]"
   ]
  },
  {
   "cell_type": "code",
   "execution_count": 17,
   "id": "e313944b-f624-4594-adab-536ebb3c7f0e",
   "metadata": {},
   "outputs": [
    {
     "data": {
      "image/png": "[encoded data removed]",
      "text/plain": [
       "<Figure size 640x480 with 1 Axes>"
      ]
     },
     "metadata": {},
     "output_type": "display_data"
    }
   ],
   "source": [
    "import matplotlib.pyplot as plt\n",
    "plt.imshow(SingleImage.reshape(28,28), cmap=\"grey\")\n",
    "plt.show()"
   ]
  },
  {
   "cell_type": "code",
   "execution_count": 11,
   "id": "8b7ded75-2ed3-43a6-a8d8-5621f15b7c78",
   "metadata": {},
   "outputs": [],
   "source": [
    "inputs, classes = next(iter(network.train_data_loader))"
   ]
  },
  {
   "cell_type": "code",
   "execution_count": 18,
   "id": "f178faea-6ebd-4fc7-8db4-dfa315e9de2b",
   "metadata": {},
   "outputs": [
    {
     "data": {
      "text/plain": [
       "(tensor([[[0.0000, 0.0000, 0.0000, 0.0000, 0.0000, 0.0000, 0.0000, 0.0000,\n",
       "           0.0000, 0.0000, 0.0000, 0.0000, 0.0000, 0.0000, 0.0000, 0.0000,\n",
       "           0.0000, 0.0000, 0.0000, 0.0000, 0.0000, 0.0000, 0.0000, 0.0000,\n",
       "           0.0000, 0.0000, 0.0000, 0.0000],\n",
       "          [0.0000, 0.0000, 0.0000, 0.0000, 0.0000, 0.0000, 0.0000, 0.0000,\n",
       "           0.0000, 0.0000, 0.0000, 0.0000, 0.0000, 0.0000, 0.0000, 0.0000,\n",
       "           0.0000, 0.0000, 0.0000, 0.0000, 0.0000, 0.0000, 0.0000, 0.0000,\n",
       "           0.0000, 0.0000, 0.0000, 0.0000],\n",
       "          [0.0000, 0.0000, 0.0000, 0.0000, 0.0000, 0.0000, 0.0000, 0.0000,\n",
       "           0.0000, 0.0000, 0.0000, 0.0000, 0.0000, 0.0000, 0.0000, 0.0000,\n",
       "           0.0000, 0.0000, 0.0000, 0.0000, 0.0000, 0.0000, 0.0000, 0.0000,\n",
       "           0.0000, 0.0000, 0.0000, 0.0000],\n",
       "          [0.0000, 0.0000, 0.0000, 0.0000, 0.0000, 0.0000, 0.0000, 0.0000,\n",
       "           0.0000, 0.0000, 0.0000, 0.0000, 0.0000, 0.0000, 0.0000, 0.0000,\n",
       "           0.0000, 0.0000, 0.0000, 0.0000, 0.0000, 0.0000, 0.0000, 0.0000,\n",
       "           0.0000, 0.0000, 0.0000, 0.0000],\n",
       "          [0.0000, 0.0000, 0.0000, 0.0000, 0.0000, 0.0000, 0.0000, 0.0000,\n",
       "           0.0000, 0.0000, 0.0000, 0.0000, 0.0000, 0.0000, 0.0000, 0.0000,\n",
       "           0.0000, 0.0000, 0.0000, 0.0000, 0.0000, 0.0000, 0.0000, 0.0000,\n",
       "           0.0000, 0.0000, 0.0000, 0.0000],\n",
       "          [0.0000, 0.0000, 0.0000, 0.0000, 0.0000, 0.0000, 0.0000, 0.0000,\n",
       "           0.0000, 0.0000, 0.0000, 0.0000, 0.0000, 0.0000, 0.0000, 0.0000,\n",
       "           0.0000, 0.0000, 0.0000, 0.0000, 0.0157, 0.0157, 0.0157, 0.0157,\n",
       "           0.0000, 0.0000, 0.0000, 0.0000],\n",
       "          [0.0000, 0.0000, 0.0000, 0.0000, 0.0000, 0.0000, 0.0000, 0.0000,\n",
       "           0.0000, 0.0000, 0.0000, 0.0000, 0.0000, 0.0000, 0.0000, 0.0000,\n",
       "           0.0000, 0.0157, 0.0353, 0.1843, 0.7922, 0.8510, 0.8510, 0.7922,\n",
       "           0.3529, 0.0039, 0.0000, 0.0000],\n",
       "          [0.0000, 0.0000, 0.0000, 0.0000, 0.0000, 0.0000, 0.0000, 0.0000,\n",
       "           0.0000, 0.0000, 0.0000, 0.0000, 0.0000, 0.0000, 0.0000, 0.0314,\n",
       "           0.1804, 0.4902, 0.5490, 0.8157, 0.9922, 0.9961, 0.9961, 0.9922,\n",
       "           0.8588, 0.1294, 0.0000, 0.0000],\n",
       "          [0.0000, 0.0000, 0.0000, 0.0000, 0.0000, 0.0000, 0.0000, 0.0000,\n",
       "           0.0000, 0.0000, 0.0000, 0.0000, 0.0000, 0.0039, 0.1804, 0.4980,\n",
       "           0.8157, 0.9765, 0.9804, 0.9608, 0.8745, 0.9765, 1.0000, 0.9961,\n",
       "           0.9922, 0.4431, 0.0157, 0.0000],\n",
       "          [0.0000, 0.0000, 0.0000, 0.0000, 0.0000, 0.0000, 0.0000, 0.0000,\n",
       "           0.0000, 0.0000, 0.0000, 0.0039, 0.0863, 0.3725, 0.9569, 0.9922,\n",
       "           0.9647, 0.8000, 0.4980, 0.1804, 0.3922, 0.9216, 0.9922, 0.9373,\n",
       "           0.9725, 0.4980, 0.0157, 0.0000],\n",
       "          [0.0000, 0.0000, 0.0000, 0.0000, 0.0000, 0.0000, 0.0000, 0.0000,\n",
       "           0.0000, 0.0000, 0.0118, 0.1843, 0.6235, 0.9098, 0.9804, 0.8627,\n",
       "           0.5020, 0.1333, 0.0314, 0.0353, 0.8118, 0.9922, 0.9098, 0.4549,\n",
       "           0.7020, 0.4980, 0.0157, 0.0000],\n",
       "          [0.0000, 0.0000, 0.0000, 0.0000, 0.0000, 0.0000, 0.0000, 0.0000,\n",
       "           0.0000, 0.0314, 0.3098, 0.8157, 0.9686, 0.9608, 0.5451, 0.3020,\n",
       "           0.0392, 0.0000, 0.0000, 0.1804, 0.9608, 0.9686, 0.6039, 0.1255,\n",
       "           0.5569, 0.4980, 0.0157, 0.0000],\n",
       "          [0.0000, 0.0000, 0.0000, 0.0000, 0.0000, 0.0000, 0.0000, 0.0157,\n",
       "           0.3059, 0.6863, 0.9608, 0.9176, 0.5647, 0.3020, 0.0039, 0.0000,\n",
       "           0.0000, 0.0000, 0.0196, 0.4980, 0.9608, 0.5020, 0.0118, 0.1451,\n",
       "           0.8431, 0.4980, 0.0157, 0.0000],\n",
       "          [0.0000, 0.0000, 0.0000, 0.0000, 0.0000, 0.0000, 0.0784, 0.3882,\n",
       "           0.8157, 0.9843, 0.9686, 0.6039, 0.0941, 0.0078, 0.0000, 0.0000,\n",
       "           0.0000, 0.0000, 0.1333, 0.6941, 0.8157, 0.1804, 0.0000, 0.2000,\n",
       "           0.8667, 0.4980, 0.0157, 0.0000],\n",
       "          [0.0000, 0.0000, 0.0000, 0.0000, 0.0000, 0.0745, 0.3922, 0.8863,\n",
       "           0.9765, 0.9569, 0.6392, 0.0863, 0.0039, 0.0000, 0.0000, 0.0000,\n",
       "           0.0000, 0.0157, 0.4510, 0.9529, 0.4980, 0.0314, 0.0157, 0.4510,\n",
       "           0.9608, 0.4902, 0.0157, 0.0000],\n",
       "          [0.0000, 0.0000, 0.0000, 0.0000, 0.0471, 0.4784, 0.9176, 0.9843,\n",
       "           0.8627, 0.4980, 0.1294, 0.0000, 0.0000, 0.0000, 0.0000, 0.0000,\n",
       "           0.0000, 0.0824, 0.6745, 0.9725, 0.2000, 0.0000, 0.0824, 0.6745,\n",
       "           0.9804, 0.3216, 0.0078, 0.0000],\n",
       "          [0.0000, 0.0000, 0.0275, 0.3725, 0.8118, 0.9647, 0.8588, 0.4235,\n",
       "           0.1255, 0.0039, 0.0000, 0.0000, 0.0000, 0.0000, 0.0000, 0.0000,\n",
       "           0.0000, 0.1451, 0.8510, 0.9137, 0.0824, 0.0000, 0.3294, 0.9137,\n",
       "           0.9137, 0.0824, 0.0000, 0.0000],\n",
       "          [0.0000, 0.0078, 0.2980, 0.9098, 0.9882, 0.8667, 0.3098, 0.0353,\n",
       "           0.0000, 0.0000, 0.0000, 0.0000, 0.0000, 0.0000, 0.0000, 0.0000,\n",
       "           0.0000, 0.1451, 0.8510, 0.8510, 0.0196, 0.0275, 0.6863, 0.9804,\n",
       "           0.7922, 0.0157, 0.0000, 0.0000],\n",
       "          [0.0000, 0.0118, 0.4196, 0.9412, 0.8118, 0.3569, 0.0118, 0.0000,\n",
       "           0.0000, 0.0000, 0.0000, 0.0000, 0.0000, 0.0000, 0.0000, 0.0000,\n",
       "           0.0000, 0.1451, 0.8510, 0.8706, 0.0549, 0.1882, 0.9569, 0.9098,\n",
       "           0.3725, 0.0000, 0.0000, 0.0000],\n",
       "          [0.0000, 0.0000, 0.0078, 0.1059, 0.0314, 0.0000, 0.0000, 0.0000,\n",
       "           0.0000, 0.0000, 0.0000, 0.0000, 0.0000, 0.0000, 0.0000, 0.0000,\n",
       "           0.0000, 0.1451, 0.8431, 0.9922, 0.8706, 0.9176, 0.9059, 0.3725,\n",
       "           0.0275, 0.0000, 0.0000, 0.0000],\n",
       "          [0.0000, 0.0000, 0.0000, 0.0000, 0.0000, 0.0000, 0.0000, 0.0000,\n",
       "           0.0000, 0.0000, 0.0000, 0.0000, 0.0000, 0.0000, 0.0000, 0.0000,\n",
       "           0.0000, 0.0784, 0.6196, 0.9569, 0.9922, 0.9569, 0.4824, 0.0784,\n",
       "           0.0000, 0.0000, 0.0000, 0.0000],\n",
       "          [0.0000, 0.0000, 0.0000, 0.0000, 0.0000, 0.0000, 0.0000, 0.0000,\n",
       "           0.0000, 0.0000, 0.0000, 0.0000, 0.0000, 0.0000, 0.0000, 0.0000,\n",
       "           0.0000, 0.0039, 0.1294, 0.4941, 0.7922, 0.4941, 0.0392, 0.0000,\n",
       "           0.0000, 0.0000, 0.0000, 0.0000],\n",
       "          [0.0000, 0.0000, 0.0000, 0.0000, 0.0000, 0.0000, 0.0000, 0.0000,\n",
       "           0.0000, 0.0000, 0.0000, 0.0000, 0.0000, 0.0000, 0.0000, 0.0000,\n",
       "           0.0000, 0.0000, 0.0000, 0.0000, 0.0118, 0.0000, 0.0000, 0.0000,\n",
       "           0.0000, 0.0000, 0.0000, 0.0000],\n",
       "          [0.0000, 0.0000, 0.0000, 0.0000, 0.0000, 0.0000, 0.0000, 0.0000,\n",
       "           0.0000, 0.0000, 0.0000, 0.0000, 0.0000, 0.0000, 0.0000, 0.0000,\n",
       "           0.0000, 0.0000, 0.0000, 0.0000, 0.0000, 0.0000, 0.0000, 0.0000,\n",
       "           0.0000, 0.0000, 0.0000, 0.0000],\n",
       "          [0.0000, 0.0000, 0.0000, 0.0000, 0.0000, 0.0000, 0.0000, 0.0000,\n",
       "           0.0000, 0.0000, 0.0000, 0.0000, 0.0000, 0.0000, 0.0000, 0.0000,\n",
       "           0.0000, 0.0000, 0.0000, 0.0000, 0.0000, 0.0000, 0.0000, 0.0000,\n",
       "           0.0000, 0.0000, 0.0000, 0.0000],\n",
       "          [0.0000, 0.0000, 0.0000, 0.0000, 0.0000, 0.0000, 0.0000, 0.0000,\n",
       "           0.0000, 0.0000, 0.0000, 0.0000, 0.0000, 0.0000, 0.0000, 0.0000,\n",
       "           0.0000, 0.0000, 0.0000, 0.0000, 0.0000, 0.0000, 0.0000, 0.0000,\n",
       "           0.0000, 0.0000, 0.0000, 0.0000],\n",
       "          [0.0000, 0.0000, 0.0000, 0.0000, 0.0000, 0.0000, 0.0000, 0.0000,\n",
       "           0.0000, 0.0000, 0.0000, 0.0000, 0.0000, 0.0000, 0.0000, 0.0000,\n",
       "           0.0000, 0.0000, 0.0000, 0.0000, 0.0000, 0.0000, 0.0000, 0.0000,\n",
       "           0.0000, 0.0000, 0.0000, 0.0000],\n",
       "          [0.0000, 0.0000, 0.0000, 0.0000, 0.0000, 0.0000, 0.0000, 0.0000,\n",
       "           0.0000, 0.0000, 0.0000, 0.0000, 0.0000, 0.0000, 0.0000, 0.0000,\n",
       "           0.0000, 0.0000, 0.0000, 0.0000, 0.0000, 0.0000, 0.0000, 0.0000,\n",
       "           0.0000, 0.0000, 0.0000, 0.0000]]]),\n",
       " tensor(6))"
      ]
     },
     "execution_count": 18,
     "metadata": {},
     "output_type": "execute_result"
    }
   ],
   "source": [
    "inputs[0], classes[0]"
   ]
  },
  {
   "cell_type": "code",
   "execution_count": null,
   "id": "7408ac1d-95be-464c-838c-9876e829cb7c",
   "metadata": {},
   "outputs": [],
   "source": []
  }
 ],
 "metadata": {
  "kernelspec": {
   "display_name": "Python [conda env:base] *",
   "language": "python",
   "name": "conda-base-py"
  },
  "language_info": {
   "codemirror_mode": {
    "name": "ipython",
    "version": 3
   },
   "file_extension": ".py",
   "mimetype": "text/x-python",
   "name": "python",
   "nbconvert_exporter": "python",
   "pygments_lexer": "ipython3",
   "version": "3.12.7"
  }
 },
 "nbformat": 4,
 "nbformat_minor": 5
}
